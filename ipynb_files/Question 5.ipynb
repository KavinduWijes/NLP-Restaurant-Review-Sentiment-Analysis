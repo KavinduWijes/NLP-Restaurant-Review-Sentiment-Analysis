{
 "cells": [
  {
   "cell_type": "markdown",
   "id": "0c207a37",
   "metadata": {},
   "source": [
    "# Task 5"
   ]
  },
  {
   "cell_type": "code",
   "execution_count": null,
   "id": "95abcd83",
   "metadata": {},
   "outputs": [],
   "source": [
    "import nltk\n",
    "import pandas as pd\n",
    "import numpy as np\n",
    "from nltk.corpus import wordnet, stopwords, opinion_lexicon\n",
    "from nltk.tokenize import word_tokenize\n",
    "from nltk.tag import pos_tag"
   ]
  },
  {
   "cell_type": "code",
   "execution_count": 37,
   "id": "f8289f73",
   "metadata": {},
   "outputs": [],
   "source": [
    "#target attributes\n",
    "attributes = {\n",
    "    \"price\": [\"affordable\", \"expensive\", \"reasonable\", \"cheap\", \"overpriced\", \"budget-friendly\", \"cost-effective\", \"pricey\", \"inexpensive\", \"value for money\", \"price tag\", \"pricy\", \"wallet-friendly\", \"economical\", \"price point\", \"exorbitantly\"],\n",
    "    \"food\": [\"delicious\", \"tasty\", \"flavorful\", \"savory\", \"yummy\", \"delectable\", \"mouthwatering\", \"palatable\", \"satisfying\", \"tasty dishes\", \"culinary experience\", \"taste buds\", \"appetizing\", \"gourmet\", \"scrumptious\", \"gourmand\", \"great\", \"fresh\", \"good\", \"tasteless\"],\n",
    "    \"location\": [\"central\", \"convenient\", \"far\", \"noisy\", \"quiet\", \"serene\", \"scenic\", \"urban\", \"suburban\", \"remote\", \"bustling\", \"peaceful\", \"picturesque\", \"rural\", \"accessible\", \"secluded\", \"cool\", \"suggest\", \"good\"],\n",
    "    \"service\": [\"hostile\",\"friendly\", \"efficient\", \"attentive\", \"prompt\", \"courteous\", \"responsive\", \"helpful\", \"accommodating\", \"welcoming\", \"professional\", \"impersonal\", \"slow\", \"inattentive\", \"rude\", \"lackluster\", \"polite\", \"packaging\", \"delivery\", \"stupid\"],\n",
    "}"
   ]
  },
  {
   "cell_type": "code",
   "execution_count": 4,
   "id": "d4caf249",
   "metadata": {},
   "outputs": [],
   "source": [
    "# Define negation words\n",
    "negation_words = [\"not\", \"none\", \"nt\"]"
   ]
  },
  {
   "cell_type": "code",
   "execution_count": 5,
   "id": "91d6e5bf",
   "metadata": {},
   "outputs": [],
   "source": [
    "def preprocess_review(review):\n",
    "    # Tokenize and tag the words in the review\n",
    "    tokens = word_tokenize(review)\n",
    "    tagged_tokens = pos_tag(tokens)\n",
    "    return tagged_tokens"
   ]
  },
  {
   "cell_type": "code",
   "execution_count": 6,
   "id": "c4939b98",
   "metadata": {},
   "outputs": [],
   "source": [
    "def remove_stopwords(tagged_tokens):\n",
    "    stop_words = set(stopwords.words('english'))\n",
    "    stop_words -= set(negation_words)  # Remove negation words from stop_words\n",
    "    return [(token, pos) for token, pos in tagged_tokens if token.lower() not in stop_words]"
   ]
  },
  {
   "cell_type": "code",
   "execution_count": 34,
   "id": "646b3fc2",
   "metadata": {},
   "outputs": [],
   "source": [
    "def extract_attributes(tagged_tokens):\n",
    "    extracted_attributes = {}\n",
    "    \n",
    "    for attribute, attribute_keywords in attributes.items():\n",
    "        attribute_words = set()\n",
    "        sentiment = 0\n",
    "        \n",
    "        for i in range(1, len(tagged_tokens)):\n",
    "            token, pos = tagged_tokens[i]\n",
    "            \n",
    "            if pos in ['JJ', 'JJR', 'JJS', 'RB', 'RBR', 'RBS']:\n",
    "                \n",
    "                # Check if the token is an attribute keyword or a synonym\n",
    "                if token.lower() in attribute_keywords:\n",
    "                    attribute_words.add(token.lower())\n",
    "                else:\n",
    "                    # Find synonyms and antonyms for the token using WordNet\n",
    "                    synonyms = set()\n",
    "                    antonyms = set()\n",
    "                    for syn in wordnet.synsets(token):\n",
    "                        for lemma in syn.lemmas():\n",
    "                            synonyms.add(lemma.name().lower())\n",
    "                        for antonym in lemma.antonyms():\n",
    "                            antonyms.add(antonym.name().lower())\n",
    "                    if any(keyword in synonyms or keyword in antonyms for keyword in attribute_keywords):\n",
    "                        attribute_words.add(token.lower())\n",
    "            \n",
    "            prev_token, _ = tagged_tokens[i-1]\n",
    "            if prev_token in negation_words:\n",
    "                if token in opinion_lexicon.positive():\n",
    "                    sentiment -= 1\n",
    "                elif token in opinion_lexicon.negative():\n",
    "                    sentiment += 1\n",
    "            else:\n",
    "                if token in opinion_lexicon.positive():\n",
    "                    sentiment += 1\n",
    "                elif token in opinion_lexicon.negative():\n",
    "                    sentiment -= 1\n",
    "\n",
    "        if attribute_words:\n",
    "            # Determine the sentiment polarity for the attribute\n",
    "            if sentiment > 0:\n",
    "                sentiment_polarity = \"1\"\n",
    "            elif sentiment < 0:\n",
    "                sentiment_polarity = \"-1\"\n",
    "            else:\n",
    "                sentiment_polarity = \"0\"\n",
    "        elif not attribute_words:\n",
    "                sentiment_polarity = \"0\"\n",
    "       \n",
    "        extracted_attributes[attribute] = {\n",
    "           \"sentiment\": sentiment_polarity\n",
    "        }\n",
    "    return extracted_attributes"
   ]
  },
  {
   "cell_type": "code",
   "execution_count": 8,
   "id": "8270ea05",
   "metadata": {},
   "outputs": [],
   "source": [
    "def print_extracted_attributes(extracted_attributes):\n",
    "   \n",
    "    for attribute, data in extracted_attributes.items():\n",
    "        sentiment = data[\"sentiment\"]\n",
    "        print(f\"{attribute.capitalize()}: (Sentiment: {sentiment})\")"
   ]
  },
  {
   "cell_type": "code",
   "execution_count": 39,
   "id": "3f535a60",
   "metadata": {},
   "outputs": [
    {
     "name": "stdout",
     "output_type": "stream",
     "text": [
      "Price: (Sentiment: 0)\n",
      "Food: (Sentiment: -1)\n",
      "Location: (Sentiment: -1)\n",
      "Service: (Sentiment: 0)\n"
     ]
    }
   ],
   "source": [
    "# Sample user review\n",
    "user_review = \"I was thoroughly disappointed with my recent visit to Cafe Five. The food was mediocre at best, and the prices were outrageously high. It felt like I was paying a premium for subpar, tasteless dishes.\"\n",
    "tagged_tokens = preprocess_review(user_review)\n",
    "filtered_tokens = remove_stopwords(tagged_tokens)\n",
    "attributes_data = extract_attributes(filtered_tokens)\n",
    "print_extracted_attributes(attributes_data)"
   ]
  },
  {
   "cell_type": "code",
   "execution_count": 31,
   "id": "ce81d474",
   "metadata": {},
   "outputs": [],
   "source": [
    "df = pd.read_csv('/path to/cleanedWithAll.csv')"
   ]
  },
  {
   "cell_type": "code",
   "execution_count": 47,
   "id": "8b87161a",
   "metadata": {},
   "outputs": [],
   "source": [
    "#write polarity to CSV\n",
    "price = []\n",
    "food = []\n",
    "location = []\n",
    "service =[]\n",
    "\n",
    "for review in df['Review']:\n",
    "    tagged_tokens = preprocess_review(review)\n",
    "    filtered_tokens = remove_stopwords(tagged_tokens)\n",
    "    attributes_data = extract_attributes(filtered_tokens)\n",
    "    attributes_data_array = np.array(list(attributes_data.values()))\n",
    "    price.append(attributes_data_array[0]['sentiment'])\n",
    "    food.append(attributes_data_array[1]['sentiment'])\n",
    "    location.append(attributes_data_array[2]['sentiment'])\n",
    "    service.append(attributes_data_array[3]['sentiment'])\n",
    "    \n",
    "df['pricePolarity'] = price\n",
    "df['foodPolarity'] = food\n",
    "df['locationPolarity'] = location\n",
    "df['servicePolarity'] = service\n",
    "\n",
    "df.to_csv(r'/path to/dataWithPolarities.csv',index=False, sep=',', encoding='utf-8')"
   ]
  }
 ],
 "metadata": {
  "kernelspec": {
   "display_name": "Python 3 (ipykernel)",
   "language": "python",
   "name": "python3"
  },
  "language_info": {
   "codemirror_mode": {
    "name": "ipython",
    "version": 3
   },
   "file_extension": ".py",
   "mimetype": "text/x-python",
   "name": "python",
   "nbconvert_exporter": "python",
   "pygments_lexer": "ipython3",
   "version": "3.11.5"
  }
 },
 "nbformat": 4,
 "nbformat_minor": 5
}
