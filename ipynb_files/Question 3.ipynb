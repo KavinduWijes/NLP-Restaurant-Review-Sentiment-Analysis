{
 "cells": [
  {
   "cell_type": "code",
   "execution_count": 10,
   "id": "73c219bd",
   "metadata": {},
   "outputs": [
    {
     "name": "stdout",
     "output_type": "stream",
     "text": [
      "Pearson Correlation between User Ratings and V1: 0.6796144939562785\n",
      "P-Value for User Ratings vs. V1 Sentiment Score: 0.0000000\n",
      "Pearson Correlation between User Ratings and V2 Sentiment Score: 0.7014253603512852\n",
      "P-Value for User Ratings vs. V2 Sentiment Score: 0.0000000000\n",
      "Pearson Correlation between User Ratings and V3 Sentiment Score: 0.6939362938312522\n",
      "P-Value for User Ratings vs. V3 Sentiment Score: 0.0000000000\n",
      "There is a similarity score and +cor between user ratings and V1.\n",
      "There is a similarity score and +cor between user ratings and V2 sentiment score.\n",
      "There is a similarity score and +cor between user ratings and V3 sentiment score.\n"
     ]
    }
   ],
   "source": [
    "import numpy as np\n",
    "import pandas as pd\n",
    "from scipy.stats import pearsonr\n",
    "\n",
    "data = pd.read_csv('/path/to/sentiVaderBlob.csv')\n",
    "\n",
    "user_ratings = data[\"Rating\"].astype(int)\n",
    "V1_sentiment_scores = data[\"sentiStrength\"].astype(int)\n",
    "V2_sentiment_scores = data[\"vaderValue\"].astype(float)\n",
    "V3_sentiment_scores = data[\"textBlobValues\"].astype(float)\n",
    "\n",
    "cor_V1, p_V1 = pearsonr(user_ratings, V1_sentiment_scores)\n",
    "cor_V2, p_V2 = pearsonr(user_ratings, V2_sentiment_scores)\n",
    "cor_V3, p_V3 = pearsonr(user_ratings, V3_sentiment_scores)\n",
    "\n",
    "print(f\"Pearson Correlation between User Ratings and V1: {cor_V1}\")\n",
    "print(f\"P-Value for User Ratings vs. V1 Sentiment Score: {p_V1:.5f}\")\n",
    "print(f\"Pearson Correlation between User Ratings and V2 Sentiment Score: {cor_V2}\")\n",
    "print(f\"P-Value for User Ratings vs. V2 Sentiment Score: {p_V2:.5f}\")\n",
    "print(f\"Pearson Correlation between User Ratings and V3 Sentiment Score: {cor_V3}\")\n",
    "print(f\"P-Value for User Ratings vs. V3 Sentiment Score: {p_V3:.5f}\")\n",
    "\n",
    "\n",
    "if p_V1 < 0.05:\n",
    "    if cor_V1 > 0:\n",
    "        print(\"There is a similarity score and +cor between user ratings and V1.\")\n",
    "    else:\n",
    "        print(\"There is a similarity score and -cor between user ratings and V1.\")\n",
    "else:\n",
    "    print(\"There is no ss cor between user ratings and V1.\")\n",
    "\n",
    "if p_V2 < 0.05:\n",
    "    if cor_V2 > 0:\n",
    "        print(\"There is a similarity score and +cor between user ratings and V2 sentiment score.\")\n",
    "    else:\n",
    "        print(\"There is a similarity score and -cor between user ratings and V2 sentiment score.\")\n",
    "else:\n",
    "    print(\"There is no ss cor between user ratings and V2 sentiment score.\")\n",
    "\n",
    "if p_V3 < 0.05:\n",
    "    if cor_V3 > 0:\n",
    "        print(\"There is a similarity score and +cor between user ratings and V3 sentiment score.\")\n",
    "    else:\n",
    "        print(\"There is a similarity score and -cor between user ratings and V3 sentiment score.\")\n",
    "else:\n",
    "    print(\"There is no similarity score and or cor between user ratings and V3 sentiment score.\")"
   ]
  }
 ],
 "metadata": {
  "kernelspec": {
   "display_name": "Python 3 (ipykernel)",
   "language": "python",
   "name": "python3"
  },
  "language_info": {
   "codemirror_mode": {
    "name": "ipython",
    "version": 3
   },
   "file_extension": ".py",
   "mimetype": "text/x-python",
   "name": "python",
   "nbconvert_exporter": "python",
   "pygments_lexer": "ipython3",
   "version": "3.11.5"
  }
 },
 "nbformat": 4,
 "nbformat_minor": 5
}
