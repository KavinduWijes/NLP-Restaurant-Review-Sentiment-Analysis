{
 "cells": [
  {
   "cell_type": "code",
   "execution_count": 1,
   "id": "d0e796cb",
   "metadata": {},
   "outputs": [],
   "source": [
    "import pandas as pd\n",
    "import numpy as np\n",
    "from sklearn.linear_model import LinearRegression"
   ]
  },
  {
   "cell_type": "code",
   "execution_count": 2,
   "id": "2d627a58",
   "metadata": {},
   "outputs": [],
   "source": [
    "# input the dataset with user rating and selected attribute polarities\n",
    "row_df = pd.read_csv('/path/to/dataWithPolarities.csv')"
   ]
  },
  {
   "cell_type": "code",
   "execution_count": 3,
   "id": "c480885f",
   "metadata": {},
   "outputs": [],
   "source": [
    "selected_columns = ['StandardRating','pricePolarity','foodPolarity','locationPolarity','servicePolarity']  \n",
    "df = row_df[selected_columns]"
   ]
  },
  {
   "cell_type": "markdown",
   "id": "bfadd3fc",
   "metadata": {},
   "source": [
    "### Correlation with Pearson"
   ]
  },
  {
   "cell_type": "code",
   "execution_count": 4,
   "id": "ae2906f0",
   "metadata": {},
   "outputs": [
    {
     "name": "stdout",
     "output_type": "stream",
     "text": [
      "Enter 'uni', 'bi', 'tri', or 'quad': uni\n",
      "Correlations:\n",
      "StandardRating vs pricePolarity: 0.1187\n",
      "StandardRating vs foodPolarity: 0.2960\n",
      "StandardRating vs locationPolarity: 0.4618\n",
      "StandardRating vs servicePolarity: 0.2878\n"
     ]
    }
   ],
   "source": [
    "import pandas as pd\n",
    "from scipy.stats import pearsonr\n",
    "from itertools import combinations\n",
    "\n",
    "# Function to calculate correlations based on the input (uni, bi, or tri)\n",
    "def calculate_correlations(df, input_type):\n",
    "    correlations = {}\n",
    "    columns = df.drop(columns=['StandardRating'])  # Exclude the 'StandardRating' column\n",
    "    \n",
    "    if input_type == 'uni':\n",
    "        for col in columns:\n",
    "            correlation, _ = pearsonr(df['StandardRating'], df[col])\n",
    "            correlations[f'StandardRating vs {col}'] = correlation\n",
    "\n",
    "    elif input_type == 'bi':\n",
    "        column_combinations = combinations(columns, 2)\n",
    "        for col1, col2 in column_combinations:\n",
    "            correlation, _ = pearsonr(df['StandardRating'], df[col1] + df[col2])\n",
    "            correlations[f'StandardRating vs {col1} AND {col2}'] = correlation\n",
    "\n",
    "    elif input_type == 'tri':\n",
    "        column_combinations = combinations(columns, 3)\n",
    "        for col1, col2, col3 in column_combinations:\n",
    "            correlation, _ = pearsonr(df['StandardRating'], df[col1] + df[col2] + df[col3])\n",
    "            correlations[f'StandardRating vs {col1} AND {col2} AND {col3}'] = correlation\n",
    "    else:\n",
    "        column_combinations = combinations(columns, 4)\n",
    "        for col1, col2, col3, col4 in column_combinations:\n",
    "            correlation, _ = pearsonr(df['StandardRating'], df[col1] + df[col2] + df[col3] + df[col4])\n",
    "            correlations[f'StandardRating vs {col1} AND {col2} AND {col3} AND {col4}'] = correlation\n",
    "\n",
    "    return correlations\n",
    "\n",
    "# Input type (uni -> each attribute, bi -> two attributes, tri -> three attributes, quad -> all attributes)\n",
    "input_type = input(\"Enter 'uni', 'bi', 'tri', or 'quad': \")\n",
    "\n",
    "if input_type not in ['uni', 'bi', 'tri','quad']:\n",
    "    print(\"Invalid input type.\")\n",
    "else:\n",
    "    result = calculate_correlations(df, input_type)\n",
    "    print(\"Correlations:\")\n",
    "    for key, value in result.items():\n",
    "        print(f\"{key}: {value:.4f}\")"
   ]
  },
  {
   "cell_type": "markdown",
   "id": "f7b894cc",
   "metadata": {},
   "source": [
    "### Correlation with linear regression"
   ]
  },
  {
   "cell_type": "code",
   "execution_count": 5,
   "id": "99b0a704",
   "metadata": {},
   "outputs": [],
   "source": [
    "# reshaping arrays to be compatible with linear regression model input\n",
    "stdPol = np.array(df['StandardRating']).reshape(-1, 1)\n",
    "pricePol = np.array(df['pricePolarity']).reshape(-1, 1)\n",
    "foodPol = np.array(df['foodPolarity']).reshape(-1, 1)\n",
    "locationPol = np.array(df['locationPolarity']).reshape(-1, 1)\n",
    "servicePol = np.array(df['servicePolarity']).reshape(-1, 1)"
   ]
  },
  {
   "cell_type": "code",
   "execution_count": 6,
   "id": "09a25f45",
   "metadata": {},
   "outputs": [],
   "source": [
    "model = LinearRegression()\n",
    "model.fit(foodPol,stdPol)  # X is a matrix of attributes, y is original rating\n",
    "foodCorrelation = model.coef_"
   ]
  },
  {
   "cell_type": "code",
   "execution_count": 7,
   "id": "d1df6e2a",
   "metadata": {},
   "outputs": [],
   "source": [
    "model = LinearRegression()\n",
    "model.fit(pricePol,stdPol)\n",
    "priceCorrelation = model.coef_"
   ]
  },
  {
   "cell_type": "code",
   "execution_count": 8,
   "id": "6d079b2b",
   "metadata": {},
   "outputs": [],
   "source": [
    "model = LinearRegression()\n",
    "model.fit(locationPol,stdPol)\n",
    "locationCorrelation = model.coef_"
   ]
  },
  {
   "cell_type": "code",
   "execution_count": 9,
   "id": "43f9a6cc",
   "metadata": {},
   "outputs": [],
   "source": [
    "model = LinearRegression()\n",
    "model.fit(servicePol,stdPol)\n",
    "serviceCorrelation = model.coef_"
   ]
  },
  {
   "cell_type": "code",
   "execution_count": 10,
   "id": "82522574",
   "metadata": {},
   "outputs": [
    {
     "name": "stdout",
     "output_type": "stream",
     "text": [
      "Attribute correlation with user rating using linear regression : \n",
      "Food Correlation : 0.5262458842059128\n",
      "Price Correlation : 0.4446202294061949\n",
      "Location Correlation : 0.6188126762846683\n",
      "Service Correlation : 0.5534971204178304\n"
     ]
    }
   ],
   "source": [
    "print('Attribute correlation with user rating using linear regression : ')\n",
    "print(f'Food Correlation : {foodCorrelation[0][0]}')\n",
    "print(f'Price Correlation : {priceCorrelation[0][0]}')\n",
    "print(f'Location Correlation : {locationCorrelation[0][0]}')\n",
    "print(f'Service Correlation : {serviceCorrelation[0][0]}')"
   ]
  }
 ],
 "metadata": {
  "kernelspec": {
   "display_name": "Python 3 (ipykernel)",
   "language": "python",
   "name": "python3"
  },
  "language_info": {
   "codemirror_mode": {
    "name": "ipython",
    "version": 3
   },
   "file_extension": ".py",
   "mimetype": "text/x-python",
   "name": "python",
   "nbconvert_exporter": "python",
   "pygments_lexer": "ipython3",
   "version": "3.11.5"
  }
 },
 "nbformat": 4,
 "nbformat_minor": 5
}
