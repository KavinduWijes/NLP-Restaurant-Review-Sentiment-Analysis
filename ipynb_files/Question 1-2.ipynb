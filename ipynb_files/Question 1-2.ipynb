{
 "cells": [
  {
   "cell_type": "markdown",
   "id": "3d3ef760",
   "metadata": {},
   "source": [
    "## Task 1"
   ]
  },
  {
   "cell_type": "code",
   "execution_count": 2,
   "id": "82fe837e",
   "metadata": {},
   "outputs": [
    {
     "name": "stdout",
     "output_type": "stream",
     "text": [
      "Requirement already satisfied: sentistrength in d:\\anaconda\\lib\\site-packages (0.0.9)\n",
      "Note: you may need to restart the kernel to use updated packages.\n"
     ]
    }
   ],
   "source": [
    "pip install sentistrength"
   ]
  },
  {
   "cell_type": "code",
   "execution_count": 3,
   "id": "09670845",
   "metadata": {},
   "outputs": [
    {
     "name": "stdout",
     "output_type": "stream",
     "text": [
      "Requirement already satisfied: textblob in d:\\anaconda\\lib\\site-packages (0.17.1)\n",
      "Requirement already satisfied: nltk>=3.1 in d:\\anaconda\\lib\\site-packages (from textblob) (3.8.1)\n",
      "Requirement already satisfied: click in d:\\anaconda\\lib\\site-packages (from nltk>=3.1->textblob) (8.0.4)\n",
      "Requirement already satisfied: joblib in d:\\anaconda\\lib\\site-packages (from nltk>=3.1->textblob) (1.2.0)\n",
      "Requirement already satisfied: regex>=2021.8.3 in d:\\anaconda\\lib\\site-packages (from nltk>=3.1->textblob) (2022.7.9)\n",
      "Requirement already satisfied: tqdm in d:\\anaconda\\lib\\site-packages (from nltk>=3.1->textblob) (4.65.0)\n",
      "Requirement already satisfied: colorama in d:\\anaconda\\lib\\site-packages (from click->nltk>=3.1->textblob) (0.4.6)\n",
      "Note: you may need to restart the kernel to use updated packages.\n"
     ]
    }
   ],
   "source": [
    "pip install textblob"
   ]
  },
  {
   "cell_type": "code",
   "execution_count": 5,
   "id": "9bf5903c",
   "metadata": {
    "scrolled": true
   },
   "outputs": [
    {
     "name": "stderr",
     "output_type": "stream",
     "text": [
      "[nltk_data] Downloading package vader_lexicon to\n",
      "[nltk_data]     C:\\Users\\danan\\AppData\\Roaming\\nltk_data...\n",
      "[nltk_data]   Package vader_lexicon is already up-to-date!\n"
     ]
    }
   ],
   "source": [
    "import pandas as pd\n",
    "from sentistrength import PySentiStr\n",
    "import numpy as np\n",
    "import nltk\n",
    "import textblob\n",
    "nltk.download('vader_lexicon')\n",
    "from nltk.sentiment.vader import SentimentIntensityAnalyzer"
   ]
  },
  {
   "cell_type": "markdown",
   "id": "64e28eac",
   "metadata": {},
   "source": [
    "### Add the restaurant reviews dataset path"
   ]
  },
  {
   "cell_type": "code",
   "execution_count": 7,
   "id": "f0209c8c",
   "metadata": {},
   "outputs": [],
   "source": [
    "# input initial dataset\n",
    "spreadsheet = pd.read_csv('path/to/Restaurant_reviews.csv')"
   ]
  },
  {
   "cell_type": "code",
   "execution_count": 8,
   "id": "21ebbe1c",
   "metadata": {},
   "outputs": [
    {
     "data": {
      "text/html": [
       "<div>\n",
       "<style scoped>\n",
       "    .dataframe tbody tr th:only-of-type {\n",
       "        vertical-align: middle;\n",
       "    }\n",
       "\n",
       "    .dataframe tbody tr th {\n",
       "        vertical-align: top;\n",
       "    }\n",
       "\n",
       "    .dataframe thead th {\n",
       "        text-align: right;\n",
       "    }\n",
       "</style>\n",
       "<table border=\"1\" class=\"dataframe\">\n",
       "  <thead>\n",
       "    <tr style=\"text-align: right;\">\n",
       "      <th></th>\n",
       "      <th>Review</th>\n",
       "      <th>Rating</th>\n",
       "    </tr>\n",
       "  </thead>\n",
       "  <tbody>\n",
       "    <tr>\n",
       "      <th>0</th>\n",
       "      <td>The ambience was good, food was quite good . h...</td>\n",
       "      <td>5</td>\n",
       "    </tr>\n",
       "    <tr>\n",
       "      <th>1</th>\n",
       "      <td>Ambience is too good for a pleasant evening. S...</td>\n",
       "      <td>5</td>\n",
       "    </tr>\n",
       "    <tr>\n",
       "      <th>2</th>\n",
       "      <td>A must try.. great food great ambience. Thnx f...</td>\n",
       "      <td>5</td>\n",
       "    </tr>\n",
       "    <tr>\n",
       "      <th>3</th>\n",
       "      <td>Soumen das and Arun was a great guy. Only beca...</td>\n",
       "      <td>5</td>\n",
       "    </tr>\n",
       "    <tr>\n",
       "      <th>4</th>\n",
       "      <td>Food is good.we ordered Kodi drumsticks and ba...</td>\n",
       "      <td>5</td>\n",
       "    </tr>\n",
       "    <tr>\n",
       "      <th>5</th>\n",
       "      <td>Ambiance is good, service is good, food is aPr...</td>\n",
       "      <td>5</td>\n",
       "    </tr>\n",
       "    <tr>\n",
       "      <th>6</th>\n",
       "      <td>Its a very nice place, ambience is different, ...</td>\n",
       "      <td>5</td>\n",
       "    </tr>\n",
       "    <tr>\n",
       "      <th>7</th>\n",
       "      <td>Well after reading so many reviews finally vis...</td>\n",
       "      <td>4</td>\n",
       "    </tr>\n",
       "    <tr>\n",
       "      <th>8</th>\n",
       "      <td>Excellent food , specially if you like spicy f...</td>\n",
       "      <td>5</td>\n",
       "    </tr>\n",
       "    <tr>\n",
       "      <th>9</th>\n",
       "      <td>Came for the birthday treat of a close friend....</td>\n",
       "      <td>5</td>\n",
       "    </tr>\n",
       "  </tbody>\n",
       "</table>\n",
       "</div>"
      ],
      "text/plain": [
       "                                              Review Rating\n",
       "0  The ambience was good, food was quite good . h...      5\n",
       "1  Ambience is too good for a pleasant evening. S...      5\n",
       "2  A must try.. great food great ambience. Thnx f...      5\n",
       "3  Soumen das and Arun was a great guy. Only beca...      5\n",
       "4  Food is good.we ordered Kodi drumsticks and ba...      5\n",
       "5  Ambiance is good, service is good, food is aPr...      5\n",
       "6  Its a very nice place, ambience is different, ...      5\n",
       "7  Well after reading so many reviews finally vis...      4\n",
       "8  Excellent food , specially if you like spicy f...      5\n",
       "9  Came for the birthday treat of a close friend....      5"
      ]
     },
     "execution_count": 8,
     "metadata": {},
     "output_type": "execute_result"
    }
   ],
   "source": [
    "# remove recenlty unneccesary columns\n",
    "df = spreadsheet.drop(['Restaurant','Reviewer','Metadata','Time','Pictures','7514'],axis=1)\n",
    "df.head(10)"
   ]
  },
  {
   "cell_type": "code",
   "execution_count": 9,
   "id": "830b8a89",
   "metadata": {},
   "outputs": [
    {
     "name": "stdout",
     "output_type": "stream",
     "text": [
      "<class 'pandas.core.frame.DataFrame'>\n",
      "RangeIndex: 10000 entries, 0 to 9999\n",
      "Data columns (total 2 columns):\n",
      " #   Column  Non-Null Count  Dtype \n",
      "---  ------  --------------  ----- \n",
      " 0   Review  9955 non-null   object\n",
      " 1   Rating  9962 non-null   object\n",
      "dtypes: object(2)\n",
      "memory usage: 156.4+ KB\n"
     ]
    }
   ],
   "source": [
    "df.info()"
   ]
  },
  {
   "cell_type": "markdown",
   "id": "ee873a12",
   "metadata": {},
   "source": [
    "### Add sentristrength jar and data folder locations"
   ]
  },
  {
   "cell_type": "code",
   "execution_count": 10,
   "id": "56afd742",
   "metadata": {},
   "outputs": [],
   "source": [
    "# package import for sentistrength\n",
    "senti = PySentiStr()\n",
    "senti.setSentiStrengthPath('path/to/SentiStrengthCom.jar')\n",
    "senti.setSentiStrengthLanguageFolderPath('path/to/SentStrength_Data/')"
   ]
  },
  {
   "cell_type": "code",
   "execution_count": 11,
   "id": "dc90929b",
   "metadata": {},
   "outputs": [],
   "source": [
    "# removing empty lines in dataframe\n",
    "df['Review'].replace('', np.nan, inplace=True)\n",
    "df.dropna(subset=['Review'], inplace=True)"
   ]
  },
  {
   "cell_type": "code",
   "execution_count": 12,
   "id": "5fa88cfd",
   "metadata": {},
   "outputs": [],
   "source": [
    "# get sentistrength sentiments for all reviews\n",
    "sentiStrengthValues = []\n",
    "\n",
    "for review in df['Review']:\n",
    "    sentiment_score = senti.getSentiment(review,score='scale')\n",
    "    sentiStrengthValues.append(sentiment_score)\n",
    "\n",
    "sentiStrengthValuesFlatList = [item for sublist in sentiStrengthValues for item in sublist]"
   ]
  },
  {
   "cell_type": "code",
   "execution_count": 13,
   "id": "9d2737e5",
   "metadata": {},
   "outputs": [],
   "source": [
    "# mapper for -5 to +5, to -1 to +1\n",
    "def map_values(input_array):\n",
    "    result = []    \n",
    "    for value in input_array:\n",
    "        if value >= -5 and value <= -1:\n",
    "            result.append(-1)\n",
    "        elif value == 0:\n",
    "            result.append(0)\n",
    "        elif value >= 1 and value <= 5:\n",
    "            result.append(1)\n",
    "        else:\n",
    "            result.append(None)    \n",
    "    return result"
   ]
  },
  {
   "cell_type": "code",
   "execution_count": 14,
   "id": "4441dee0",
   "metadata": {},
   "outputs": [],
   "source": [
    "sentiStrengthValuesNormalized = map_values(sentiStrengthValuesFlatList)"
   ]
  },
  {
   "cell_type": "code",
   "execution_count": 15,
   "id": "320337ef",
   "metadata": {},
   "outputs": [],
   "source": [
    "df['sentiStrength'] = sentiStrengthValuesFlatList\n",
    "df['sentiStrengthNormalized'] = sentiStrengthValuesNormalized"
   ]
  },
  {
   "cell_type": "code",
   "execution_count": 16,
   "id": "ab92c8ed",
   "metadata": {},
   "outputs": [
    {
     "name": "stdout",
     "output_type": "stream",
     "text": [
      "<class 'pandas.core.frame.DataFrame'>\n",
      "Index: 9955 entries, 0 to 9999\n",
      "Data columns (total 4 columns):\n",
      " #   Column                   Non-Null Count  Dtype \n",
      "---  ------                   --------------  ----- \n",
      " 0   Review                   9955 non-null   object\n",
      " 1   Rating                   9955 non-null   object\n",
      " 2   sentiStrength            9955 non-null   int64 \n",
      " 3   sentiStrengthNormalized  9955 non-null   int64 \n",
      "dtypes: int64(2), object(2)\n",
      "memory usage: 388.9+ KB\n"
     ]
    }
   ],
   "source": [
    "df.info()"
   ]
  },
  {
   "cell_type": "code",
   "execution_count": 17,
   "id": "5a79cda8",
   "metadata": {},
   "outputs": [],
   "source": [
    "# Vector creation using sentiStrength\n",
    "V1 = df['sentiStrength'].values"
   ]
  },
  {
   "cell_type": "code",
   "execution_count": 18,
   "id": "ca2a91f7",
   "metadata": {},
   "outputs": [],
   "source": [
    "df.to_csv(r'save/to/a/path/sentiNormalizedAddedDataset.csv',index=False, sep=',', encoding='utf-8')"
   ]
  },
  {
   "cell_type": "markdown",
   "id": "b392c21e",
   "metadata": {},
   "source": [
    "## Task 2"
   ]
  },
  {
   "cell_type": "code",
   "execution_count": 7,
   "id": "e64c6c49",
   "metadata": {},
   "outputs": [],
   "source": [
    "# creating separate dataframe for task2\n",
    "df_2 = df.copy()"
   ]
  },
  {
   "cell_type": "code",
   "execution_count": 20,
   "id": "bf646580",
   "metadata": {},
   "outputs": [],
   "source": [
    "# since vader and textblob are able to identify difference between SAD and sad and punctuations, did not preprocess the data\n",
    "# https://towardsdatascience.com/an-short-introduction-to-vader-3f3860208d53"
   ]
  },
  {
   "cell_type": "code",
   "execution_count": 8,
   "id": "4e7a9d6c",
   "metadata": {},
   "outputs": [],
   "source": [
    "SIA = SentimentIntensityAnalyzer()\n",
    "vaderValues = []\n",
    "textBlobValues = []"
   ]
  },
  {
   "cell_type": "code",
   "execution_count": 9,
   "id": "65772336",
   "metadata": {},
   "outputs": [],
   "source": [
    "# vader sentiments\n",
    "for review in df_2['Review']:\n",
    "    sentiment_score = SIA.polarity_scores(review)\n",
    "    agg_score = sentiment_score['compound']\n",
    "    vaderValues.append(agg_score)"
   ]
  },
  {
   "cell_type": "code",
   "execution_count": 10,
   "id": "87c2525f",
   "metadata": {},
   "outputs": [],
   "source": [
    "# textblob sentiments\n",
    "for review in df_2['Review']:\n",
    "    sentiment_score = textblob.TextBlob(review).sentiment.polarity\n",
    "    textBlobValues.append(sentiment_score)"
   ]
  },
  {
   "cell_type": "code",
   "execution_count": 11,
   "id": "278c86bd",
   "metadata": {},
   "outputs": [],
   "source": [
    "df_2['vaderValue'] = vaderValues\n",
    "df_2['textBlobValues'] = textBlobValues"
   ]
  },
  {
   "cell_type": "code",
   "execution_count": 12,
   "id": "e25b8deb",
   "metadata": {},
   "outputs": [],
   "source": [
    "# V2 and V3 vector creation\n",
    "V2 = df_2['vaderValue']\n",
    "V3 = df_2['textBlobValues']"
   ]
  },
  {
   "cell_type": "code",
   "execution_count": null,
   "id": "d6c78ae9",
   "metadata": {},
   "outputs": [],
   "source": [
    "# this output file will be the input for next task\n",
    "df_2.to_csv(r'save/to/a/path/sentiVaderBlob.csv',index=False, sep=',', encoding='utf-8')"
   ]
  }
 ],
 "metadata": {
  "kernelspec": {
   "display_name": "Python 3 (ipykernel)",
   "language": "python",
   "name": "python3"
  },
  "language_info": {
   "codemirror_mode": {
    "name": "ipython",
    "version": 3
   },
   "file_extension": ".py",
   "mimetype": "text/x-python",
   "name": "python",
   "nbconvert_exporter": "python",
   "pygments_lexer": "ipython3",
   "version": "3.11.5"
  }
 },
 "nbformat": 4,
 "nbformat_minor": 5
}
